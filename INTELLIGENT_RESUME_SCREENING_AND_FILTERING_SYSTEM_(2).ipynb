{
  "nbformat": 4,
  "nbformat_minor": 0,
  "metadata": {
    "colab": {
      "provenance": []
    },
    "kernelspec": {
      "name": "python3",
      "display_name": "Python 3"
    },
    "language_info": {
      "name": "python"
    }
  },
  "cells": [
    {
      "cell_type": "code",
      "execution_count": 3,
      "metadata": {
        "colab": {
          "base_uri": "https://localhost:8080/"
        },
        "id": "BdiphUy9klC2",
        "outputId": "d949330e-57f4-4ac1-c1f9-591048da1842"
      },
      "outputs": [
        {
          "output_type": "stream",
          "name": "stdout",
          "text": [
            "                                         Resume Text  Experience  \\\n",
            "0  Experienced professional with skills in Leader...           2   \n",
            "1  Experienced professional with skills in Projec...           0   \n",
            "2  Experienced professional with skills in Deep L...          10   \n",
            "3  Experienced professional with skills in Machin...           4   \n",
            "4  Experienced professional with skills in Commun...           1   \n",
            "\n",
            "                                              Skills  Education  \n",
            "0   [Communication, Machine Learning, Data Analysis]  Bachelors  \n",
            "1  [Project Management, Communication, Java, Deep...        PhD  \n",
            "2           [Project Management, SQL, Deep Learning]  Bachelors  \n",
            "3  [Data Visualization, Machine Learning, Java, D...        PhD  \n",
            "4  [Communication, SQL, Data Visualization, Pytho...        PhD  \n"
          ]
        }
      ],
      "source": [
        "import pandas as pd\n",
        "import random\n",
        "\n",
        "# Parameters\n",
        "num_records = 1000\n",
        "skills_list = ['Python', 'Data Analysis', 'Machine Learning', 'Communication', 'Leadership', 'Java', 'Project Management', 'SQL', 'Deep Learning', 'Data Visualization']\n",
        "education_list = ['Bachelors', 'Masters', 'PhD', 'Diploma']\n",
        "\n",
        "# Generate synthetic data\n",
        "data = []\n",
        "for _ in range(num_records):\n",
        "    resume_text = f\"Experienced professional with skills in {', '.join(random.sample(skills_list, 3))}.\"\n",
        "    experience = random.randint(0, 10)  # Years of experience\n",
        "    skills = random.sample(skills_list, random.randint(3, 6))\n",
        "    education = random.choice(education_list)\n",
        "\n",
        "    data.append([resume_text, experience, skills, education])\n",
        "\n",
        "# Create DataFrame\n",
        "columns = ['Resume Text', 'Experience', 'Skills', 'Education']\n",
        "df = pd.DataFrame(data, columns=columns)\n",
        "\n",
        "# Display sample data\n",
        "print(df.head())\n",
        "\n",
        "# Save to CSV\n",
        "df.to_csv('synthetic_resumes.csv', index=False)\n"
      ]
    },
    {
      "cell_type": "code",
      "source": [
        "import pandas as pd\n",
        "\n",
        "# Load resumes into a DataFrame\n",
        "resumes = pd.read_csv('synthetic_resumes.csv')\n",
        "\n",
        "# Preprocess resumes (e.g., parsing, cleaning)\n",
        "# Example: Extracting skills\n",
        "def extract_skills(resume_text):\n",
        "    # Dummy implementation for skill extraction\n",
        "    skills = ['Python', 'Data Analysis', 'Machine Learning', 'Communication', 'Leadership']\n",
        "    return [skill for skill in skills if skill in resume_text]\n",
        "\n",
        "resumes['Skills'] = resumes['Resume Text'].apply(lambda x: extract_skills(x))\n",
        "# Extract experience using a regular expression\n",
        "resumes['Experience'] = resumes['Resume Text'].str.extract(r'(\\d+)\\s*years?')\n",
        "# Fill NaN values with 0 and convert to numeric type\n",
        "resumes['Experience'] = pd.to_numeric(resumes['Experience'], errors='coerce').fillna(0).astype(int)\n"
      ],
      "metadata": {
        "id": "77sxoGd5mHBO"
      },
      "execution_count": 4,
      "outputs": []
    },
    {
      "cell_type": "code",
      "source": [
        "# Define job requirements\n",
        "job_requirements = {\n",
        "    'skills': ['Python', 'Data Analysis', 'Machine Learning'],\n",
        "    'experience': 2  # Minimum years of experience\n",
        "}\n"
      ],
      "metadata": {
        "id": "5MrcTEmJmHtg"
      },
      "execution_count": 5,
      "outputs": []
    },
    {
      "cell_type": "code",
      "source": [
        "def calculate_score(resume, job_requirements):\n",
        "    skills = resume['Skills']\n",
        "    experience = resume['Experience']\n",
        "\n",
        "    skill_score = sum(1 for skill in job_requirements['skills'] if skill in skills) / len(job_requirements['skills'])\n",
        "    experience_score = min(experience / job_requirements['experience'], 1)\n",
        "\n",
        "    total_score = (skill_score + experience_score) / 2\n",
        "    return total_score\n",
        "\n",
        "resumes['Score'] = resumes.apply(calculate_score, job_requirements=job_requirements, axis=1)\n"
      ],
      "metadata": {
        "id": "1Pmm1qimmKCH"
      },
      "execution_count": 6,
      "outputs": []
    },
    {
      "cell_type": "code",
      "source": [
        "def provide_suggestions(resume, job_requirements):\n",
        "    suggestions = []\n",
        "    skills = resume['Skills']\n",
        "    experience = resume['Experience']\n",
        "\n",
        "    for skill in job_requirements['skills']:\n",
        "        if skill not in skills:\n",
        "            suggestions.append(f\"Consider adding more experience or projects involving {skill}.\")\n",
        "\n",
        "    if experience < job_requirements['experience']:\n",
        "        suggestions.append(f\"Consider gaining more experience, at least {job_requirements['experience']} years.\")\n",
        "\n",
        "    return suggestions\n",
        "\n",
        "resumes['Suggestions'] = resumes.apply(provide_suggestions, job_requirements=job_requirements, axis=1)\n"
      ],
      "metadata": {
        "id": "RTC7pCzQmL3y"
      },
      "execution_count": 7,
      "outputs": []
    },
    {
      "cell_type": "code",
      "source": [
        "# Example resume data\n",
        "data = {\n",
        "    'Resume': [\n",
        "        'Experienced data scientist with skills in Python, Data Analysis, and Machine Learning.',\n",
        "        'Software engineer with 1 year of experience in Communication and Leadership.',\n",
        "        'Analyst with expertise in Data Analysis and 3 years of experience.'\n",
        "    ],\n",
        "    'Experience': ['3 years', '1 year', '3 years']\n",
        "}\n",
        "\n",
        "resumes = pd.DataFrame(data)\n",
        "\n",
        "# Apply the preprocessing, scoring, and suggestions\n",
        "resumes['Skills'] = resumes['Resume'].apply(lambda x: extract_skills(x))\n",
        "resumes['Experience'] = resumes['Experience'].apply(lambda x: int(x.split()[0]))\n",
        "resumes['Score'] = resumes.apply(calculate_score, job_requirements=job_requirements, axis=1)\n",
        "resumes['Suggestions'] = resumes.apply(provide_suggestions, job_requirements=job_requirements, axis=1)\n",
        "\n",
        "# Display the results\n",
        "print(resumes[['Resume', 'Score', 'Suggestions']])\n"
      ],
      "metadata": {
        "id": "kaUapKEAmOzL",
        "colab": {
          "base_uri": "https://localhost:8080/"
        },
        "outputId": "375003e1-4cea-416c-d5cf-da1f12568eb8"
      },
      "execution_count": 8,
      "outputs": [
        {
          "output_type": "stream",
          "name": "stdout",
          "text": [
            "                                              Resume     Score  \\\n",
            "0  Experienced data scientist with skills in Pyth...  1.000000   \n",
            "1  Software engineer with 1 year of experience in...  0.250000   \n",
            "2  Analyst with expertise in Data Analysis and 3 ...  0.666667   \n",
            "\n",
            "                                         Suggestions  \n",
            "0                                                 []  \n",
            "1  [Consider adding more experience or projects i...  \n",
            "2  [Consider adding more experience or projects i...  \n"
          ]
        }
      ]
    }
  ]
}